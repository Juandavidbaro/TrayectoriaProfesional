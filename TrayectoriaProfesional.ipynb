{
  "nbformat": 4,
  "nbformat_minor": 0,
  "metadata": {
    "colab": {
      "provenance": []
    },
    "kernelspec": {
      "name": "python3",
      "display_name": "Python 3"
    },
    "language_info": {
      "name": "python"
    }
  },
  "cells": [
    {
      "cell_type": "markdown",
      "source": [
        "# Selección del Problema:\n",
        "\n",
        "El dominio del problema apropiado para el desarrollo del sistema experto de recomendación de trayectorias profesionales es el campo de la orientación vocacional y profesional. Este dominio incluye la exploración de intereses y habilidades, la identificación de oportunidades laborales, y la planificación de la educación y la formación necesarias para alcanzar objetivos profesionales específicos.\n",
        "\n",
        "El cliente espera que el sistema experto de recomendación de trayectorias profesionales resuelva el problema de brindar orientación personalizada y precisa a los individuos que enfrentan decisiones importantes relacionadas con su carrera. Esto incluye ayudar a los usuarios a identificar las carreras que mejor se alinean con sus intereses, habilidades y valores, así como proporcionar información detallada sobre las oportunidades laborales disponibles en diferentes campos profesionales. Además, se espera que el sistema ayude a los usuarios a planificar su desarrollo profesional a largo plazo, ofreciendo sugerencias sobre la educación adicional, la formación y las experiencias laborales que podrían ser beneficiosas para alcanzar sus metas profesionales.\n",
        "\n",
        "Para evaluar la idoneidad del sistema experto de recomendación de trayectorias profesionales, es crucial considerar diversas características clave:\n",
        "\n",
        "- **Precisión y Personalización:** El sistema debe ser capaz de ofrecer recomendaciones precisas y personalizadas, teniendo en cuenta las habilidades, intereses y objetivos individuales de cada usuario.\n",
        "- **Amplitud de la Base de Conocimientos:** El sistema debe contar con una amplia base de conocimientos que cubra una variedad de campos profesionales y tendencias del mercado laboral, para garantizar que las recomendaciones sean relevantes y actualizadas.\n",
        "- **Interfaz Intuitiva y Accesible:** La interfaz del sistema debe ser fácil de usar y accesible para usuarios de diferentes niveles de habilidad y experiencia, permitiendo una interacción fluida y una comprensión clara de las recomendaciones proporcionadas.\n",
        "\n",
        "# Prueba de Factibilidad\n",
        "\n",
        "Se investigaron las tecnologías disponibles, incluyendo la librería Experta, para determinar si son adecuadas para el proyecto, en este caso sí es posible desarrollar el sistema con Experta.\n",
        "Se evaluó la capacidad de la librería para manejar la lógica de recomendación.\n",
        "\n",
        "**Factibilidad Económica:**\n",
        "- Se estimaron los costos asociados con el desarrollo del sistema, hardware y personal.\n",
        "\n",
        "**Manejo de Recursos:**\n",
        "- Se definió un equipo de desarrollo con roles específicos (desarrolladores, diseñadores).\n",
        "- Se decidió utilizar la librería Experta como herramienta principal.\n",
        "\n",
        "# Especificación de Fases\n",
        "\n",
        "Se dividió el proyecto en las siguientes etapas:\n",
        "1. **Investigación y Análisis:**\n",
        "   - Comprender las necesidades de los usuarios y los objetivos del sistema.\n",
        "2. **Diseño y Desarrollo:**\n",
        "   - Crear la arquitectura del sistema.\n",
        "   - Diseñar la interfaz de usuario.\n",
        "   - Desarrollar las funcionalidades.\n",
        "3. **Pruebas y Ajustes:**\n",
        "   - Verificar el correcto funcionamiento del sistema.\n",
        "   \n",
        "# Cronograma\n",
        "\n",
        "Se creó un plan de actividades con plazos específicos:\n",
        "- Asignación de tareas a las diferentes fases.\n",
        "- Establecimiento de hitos para medir el progreso.\n",
        "\n",
        "# Plan Funcional Preliminar\n",
        "\n",
        "Se describieron las características y funcionalidades clave del sistema:\n",
        "- Generación de recomendaciones de trayectorias profesionales basadas en datos históricos y preferencias del usuario.\n",
        "- Diseño de una interfaz intuitiva para la interacción del usuario.\n",
        "\n",
        "# Requerimientos de Alto Nivel\n",
        "\n",
        "Se documentaron las necesidades de los usuarios y los objetivos del sistema:\n",
        "- Perfil de usuario: estudiantes, profesionales en transición, etc.\n",
        "- Objetivos: ayudar a los usuarios a encontrar empleo, mejorar habilidades, etc.\n",
        "- Requisitos funcionales: funcionalidades específicas del sistema.\n"
      ],
      "metadata": {
        "id": "PmpJUSELnJkT"
      }
    },
    {
      "cell_type": "code",
      "execution_count": null,
      "metadata": {
        "id": "cYX03kKDmb1l"
      },
      "outputs": [],
      "source": []
    }
  ]
}